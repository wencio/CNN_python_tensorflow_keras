{
 "cells": [
  {
   "cell_type": "code",
   "execution_count": 8,
   "metadata": {},
   "outputs": [],
   "source": [
    "from keras.datasets import mnist\n",
    "import tensorflow as tf\n",
    "import numpy as np\n",
    "from matplotlib import pyplot as plt"
   ]
  },
  {
   "cell_type": "code",
   "execution_count": 7,
   "metadata": {},
   "outputs": [
    {
     "name": "stdout",
     "output_type": "stream",
     "text": [
      "Collecting keras\n",
      "  Obtaining dependency information for keras from https://files.pythonhosted.org/packages/8d/44/c604ecc5c9993b6574a681f2f505e980725871a89cfd9e48597b12ccb506/keras-3.3.3-py3-none-any.whl.metadata\n",
      "  Downloading keras-3.3.3-py3-none-any.whl.metadata (5.7 kB)\n",
      "Collecting tensorflow\n",
      "  Obtaining dependency information for tensorflow from https://files.pythonhosted.org/packages/e4/14/d795bb156f8cc10eb1dcfe1332b7dbb8405b634688980aa9be8f885cc888/tensorflow-2.16.1-cp311-cp311-win_amd64.whl.metadata\n",
      "  Downloading tensorflow-2.16.1-cp311-cp311-win_amd64.whl.metadata (3.5 kB)\n",
      "Collecting absl-py (from keras)\n",
      "  Obtaining dependency information for absl-py from https://files.pythonhosted.org/packages/a2/ad/e0d3c824784ff121c03cc031f944bc7e139a8f1870ffd2845cc2dd76f6c4/absl_py-2.1.0-py3-none-any.whl.metadata\n",
      "  Downloading absl_py-2.1.0-py3-none-any.whl.metadata (2.3 kB)\n",
      "Requirement already satisfied: numpy in c:\\users\\wencio daniel\\anaconda3\\lib\\site-packages (from keras) (1.24.3)\n",
      "Collecting rich (from keras)\n",
      "  Obtaining dependency information for rich from https://files.pythonhosted.org/packages/87/67/a37f6214d0e9fe57f6ae54b2956d550ca8365857f42a1ce0392bb21d9410/rich-13.7.1-py3-none-any.whl.metadata\n",
      "  Downloading rich-13.7.1-py3-none-any.whl.metadata (18 kB)\n",
      "Collecting namex (from keras)\n",
      "  Obtaining dependency information for namex from https://files.pythonhosted.org/packages/73/59/7854fbfb59f8ae35483ce93493708be5942ebb6328cd85b3a609df629736/namex-0.0.8-py3-none-any.whl.metadata\n",
      "  Downloading namex-0.0.8-py3-none-any.whl.metadata (246 bytes)\n",
      "Requirement already satisfied: h5py in c:\\users\\wencio daniel\\anaconda3\\lib\\site-packages (from keras) (3.9.0)\n",
      "Collecting optree (from keras)\n",
      "  Obtaining dependency information for optree from https://files.pythonhosted.org/packages/8f/db/e05a35451d4ba30fdc65ef168dfdc68a6939ea6afdc0101e3e77f97e1547/optree-0.11.0-cp311-cp311-win_amd64.whl.metadata\n",
      "  Downloading optree-0.11.0-cp311-cp311-win_amd64.whl.metadata (46 kB)\n",
      "     ---------------------------------------- 0.0/46.2 kB ? eta -:--:--\n",
      "     ---------------------------------------- 46.2/46.2 kB 2.4 MB/s eta 0:00:00\n",
      "Collecting ml-dtypes (from keras)\n",
      "  Obtaining dependency information for ml-dtypes from https://files.pythonhosted.org/packages/f0/36/290745178e5776f7416818abc1334c1b19afb93c7c87fd1bef3cc99f84ca/ml_dtypes-0.4.0-cp311-cp311-win_amd64.whl.metadata\n",
      "  Downloading ml_dtypes-0.4.0-cp311-cp311-win_amd64.whl.metadata (20 kB)\n",
      "Collecting tensorflow-intel==2.16.1 (from tensorflow)\n",
      "  Obtaining dependency information for tensorflow-intel==2.16.1 from https://files.pythonhosted.org/packages/e0/36/6278e4e7e69a90c00e0f82944d8f2713dd85a69d1add455d9e50446837ab/tensorflow_intel-2.16.1-cp311-cp311-win_amd64.whl.metadata\n",
      "  Downloading tensorflow_intel-2.16.1-cp311-cp311-win_amd64.whl.metadata (5.0 kB)\n",
      "Collecting astunparse>=1.6.0 (from tensorflow-intel==2.16.1->tensorflow)\n",
      "  Obtaining dependency information for astunparse>=1.6.0 from https://files.pythonhosted.org/packages/2b/03/13dde6512ad7b4557eb792fbcf0c653af6076b81e5941d36ec61f7ce6028/astunparse-1.6.3-py2.py3-none-any.whl.metadata\n",
      "  Downloading astunparse-1.6.3-py2.py3-none-any.whl.metadata (4.4 kB)\n",
      "Collecting flatbuffers>=23.5.26 (from tensorflow-intel==2.16.1->tensorflow)\n",
      "  Obtaining dependency information for flatbuffers>=23.5.26 from https://files.pythonhosted.org/packages/41/f0/7e988a019bc54b2dbd0ad4182ef2d53488bb02e58694cd79d61369e85900/flatbuffers-24.3.25-py2.py3-none-any.whl.metadata\n",
      "  Downloading flatbuffers-24.3.25-py2.py3-none-any.whl.metadata (850 bytes)\n",
      "Collecting gast!=0.5.0,!=0.5.1,!=0.5.2,>=0.2.1 (from tensorflow-intel==2.16.1->tensorflow)\n",
      "  Obtaining dependency information for gast!=0.5.0,!=0.5.1,!=0.5.2,>=0.2.1 from https://files.pythonhosted.org/packages/fa/39/5aae571e5a5f4de9c3445dae08a530498e5c53b0e74410eeeb0991c79047/gast-0.5.4-py3-none-any.whl.metadata\n",
      "  Downloading gast-0.5.4-py3-none-any.whl.metadata (1.3 kB)\n",
      "Collecting google-pasta>=0.1.1 (from tensorflow-intel==2.16.1->tensorflow)\n",
      "  Obtaining dependency information for google-pasta>=0.1.1 from https://files.pythonhosted.org/packages/a3/de/c648ef6835192e6e2cc03f40b19eeda4382c49b5bafb43d88b931c4c74ac/google_pasta-0.2.0-py3-none-any.whl.metadata\n",
      "  Downloading google_pasta-0.2.0-py3-none-any.whl.metadata (814 bytes)\n",
      "Collecting h5py (from keras)\n",
      "  Obtaining dependency information for h5py from https://files.pythonhosted.org/packages/d8/5e/b7b83cfe60504cc4d24746aed04353af7ea8ec104e597e5ae71b8d0390cb/h5py-3.11.0-cp311-cp311-win_amd64.whl.metadata\n",
      "  Downloading h5py-3.11.0-cp311-cp311-win_amd64.whl.metadata (2.5 kB)\n",
      "Collecting libclang>=13.0.0 (from tensorflow-intel==2.16.1->tensorflow)\n",
      "  Obtaining dependency information for libclang>=13.0.0 from https://files.pythonhosted.org/packages/0b/2d/3f480b1e1d31eb3d6de5e3ef641954e5c67430d5ac93b7fa7e07589576c7/libclang-18.1.1-py2.py3-none-win_amd64.whl.metadata\n",
      "  Downloading libclang-18.1.1-py2.py3-none-win_amd64.whl.metadata (5.3 kB)\n",
      "Collecting ml-dtypes (from keras)\n",
      "  Obtaining dependency information for ml-dtypes from https://files.pythonhosted.org/packages/a4/db/1784b87285588788170f87e987bfb4bda218d62a70a81ebb66c94e7f9b95/ml_dtypes-0.3.2-cp311-cp311-win_amd64.whl.metadata\n",
      "  Downloading ml_dtypes-0.3.2-cp311-cp311-win_amd64.whl.metadata (20 kB)\n",
      "Collecting opt-einsum>=2.3.2 (from tensorflow-intel==2.16.1->tensorflow)\n",
      "  Obtaining dependency information for opt-einsum>=2.3.2 from https://files.pythonhosted.org/packages/bc/19/404708a7e54ad2798907210462fd950c3442ea51acc8790f3da48d2bee8b/opt_einsum-3.3.0-py3-none-any.whl.metadata\n",
      "  Downloading opt_einsum-3.3.0-py3-none-any.whl.metadata (6.5 kB)\n",
      "Requirement already satisfied: packaging in c:\\users\\wencio daniel\\anaconda3\\lib\\site-packages (from tensorflow-intel==2.16.1->tensorflow) (23.1)\n",
      "Collecting protobuf!=4.21.0,!=4.21.1,!=4.21.2,!=4.21.3,!=4.21.4,!=4.21.5,<5.0.0dev,>=3.20.3 (from tensorflow-intel==2.16.1->tensorflow)\n",
      "  Obtaining dependency information for protobuf!=4.21.0,!=4.21.1,!=4.21.2,!=4.21.3,!=4.21.4,!=4.21.5,<5.0.0dev,>=3.20.3 from https://files.pythonhosted.org/packages/ad/6e/1bed3b7c904cc178cb8ee8dbaf72934964452b3de95b7a63412591edb93c/protobuf-4.25.3-cp310-abi3-win_amd64.whl.metadata\n",
      "  Using cached protobuf-4.25.3-cp310-abi3-win_amd64.whl.metadata (541 bytes)\n",
      "Requirement already satisfied: requests<3,>=2.21.0 in c:\\users\\wencio daniel\\anaconda3\\lib\\site-packages (from tensorflow-intel==2.16.1->tensorflow) (2.31.0)\n",
      "Requirement already satisfied: setuptools in c:\\users\\wencio daniel\\anaconda3\\lib\\site-packages (from tensorflow-intel==2.16.1->tensorflow) (68.0.0)\n",
      "Requirement already satisfied: six>=1.12.0 in c:\\users\\wencio daniel\\anaconda3\\lib\\site-packages (from tensorflow-intel==2.16.1->tensorflow) (1.16.0)\n",
      "Collecting termcolor>=1.1.0 (from tensorflow-intel==2.16.1->tensorflow)\n",
      "  Obtaining dependency information for termcolor>=1.1.0 from https://files.pythonhosted.org/packages/d9/5f/8c716e47b3a50cbd7c146f45881e11d9414def768b7cd9c5e6650ec2a80a/termcolor-2.4.0-py3-none-any.whl.metadata\n",
      "  Downloading termcolor-2.4.0-py3-none-any.whl.metadata (6.1 kB)\n",
      "Requirement already satisfied: typing-extensions>=3.6.6 in c:\\users\\wencio daniel\\anaconda3\\lib\\site-packages (from tensorflow-intel==2.16.1->tensorflow) (4.7.1)\n",
      "Requirement already satisfied: wrapt>=1.11.0 in c:\\users\\wencio daniel\\anaconda3\\lib\\site-packages (from tensorflow-intel==2.16.1->tensorflow) (1.14.1)\n",
      "Collecting grpcio<2.0,>=1.24.3 (from tensorflow-intel==2.16.1->tensorflow)\n",
      "  Obtaining dependency information for grpcio<2.0,>=1.24.3 from https://files.pythonhosted.org/packages/d4/f0/4a936fbe350bead6fa885c9dcb2c269a85603dc0cbeb35cbcf107c123131/grpcio-1.64.1-cp311-cp311-win_amd64.whl.metadata\n",
      "  Downloading grpcio-1.64.1-cp311-cp311-win_amd64.whl.metadata (3.4 kB)\n",
      "Collecting tensorboard<2.17,>=2.16 (from tensorflow-intel==2.16.1->tensorflow)\n",
      "  Obtaining dependency information for tensorboard<2.17,>=2.16 from https://files.pythonhosted.org/packages/3a/d0/b97889ffa769e2d1fdebb632084d5e8b53fc299d43a537acee7ec0c021a3/tensorboard-2.16.2-py3-none-any.whl.metadata\n",
      "  Downloading tensorboard-2.16.2-py3-none-any.whl.metadata (1.6 kB)\n",
      "Collecting tensorflow-io-gcs-filesystem>=0.23.1 (from tensorflow-intel==2.16.1->tensorflow)\n",
      "  Obtaining dependency information for tensorflow-io-gcs-filesystem>=0.23.1 from https://files.pythonhosted.org/packages/ac/4e/9566a313927be582ca99455a9523a097c7888fc819695bdc08415432b202/tensorflow_io_gcs_filesystem-0.31.0-cp311-cp311-win_amd64.whl.metadata\n",
      "  Downloading tensorflow_io_gcs_filesystem-0.31.0-cp311-cp311-win_amd64.whl.metadata (14 kB)\n",
      "Requirement already satisfied: markdown-it-py>=2.2.0 in c:\\users\\wencio daniel\\anaconda3\\lib\\site-packages (from rich->keras) (2.2.0)\n",
      "Requirement already satisfied: pygments<3.0.0,>=2.13.0 in c:\\users\\wencio daniel\\anaconda3\\lib\\site-packages (from rich->keras) (2.15.1)\n",
      "Requirement already satisfied: wheel<1.0,>=0.23.0 in c:\\users\\wencio daniel\\anaconda3\\lib\\site-packages (from astunparse>=1.6.0->tensorflow-intel==2.16.1->tensorflow) (0.38.4)\n",
      "Requirement already satisfied: mdurl~=0.1 in c:\\users\\wencio daniel\\anaconda3\\lib\\site-packages (from markdown-it-py>=2.2.0->rich->keras) (0.1.0)\n",
      "Requirement already satisfied: charset-normalizer<4,>=2 in c:\\users\\wencio daniel\\anaconda3\\lib\\site-packages (from requests<3,>=2.21.0->tensorflow-intel==2.16.1->tensorflow) (2.0.4)\n",
      "Requirement already satisfied: idna<4,>=2.5 in c:\\users\\wencio daniel\\anaconda3\\lib\\site-packages (from requests<3,>=2.21.0->tensorflow-intel==2.16.1->tensorflow) (3.4)\n",
      "Requirement already satisfied: urllib3<3,>=1.21.1 in c:\\users\\wencio daniel\\anaconda3\\lib\\site-packages (from requests<3,>=2.21.0->tensorflow-intel==2.16.1->tensorflow) (1.26.16)\n",
      "Requirement already satisfied: certifi>=2017.4.17 in c:\\users\\wencio daniel\\anaconda3\\lib\\site-packages (from requests<3,>=2.21.0->tensorflow-intel==2.16.1->tensorflow) (2023.7.22)\n",
      "Requirement already satisfied: markdown>=2.6.8 in c:\\users\\wencio daniel\\anaconda3\\lib\\site-packages (from tensorboard<2.17,>=2.16->tensorflow-intel==2.16.1->tensorflow) (3.4.1)\n",
      "Collecting tensorboard-data-server<0.8.0,>=0.7.0 (from tensorboard<2.17,>=2.16->tensorflow-intel==2.16.1->tensorflow)\n",
      "  Obtaining dependency information for tensorboard-data-server<0.8.0,>=0.7.0 from https://files.pythonhosted.org/packages/7a/13/e503968fefabd4c6b2650af21e110aa8466fe21432cd7c43a84577a89438/tensorboard_data_server-0.7.2-py3-none-any.whl.metadata\n",
      "  Downloading tensorboard_data_server-0.7.2-py3-none-any.whl.metadata (1.1 kB)\n",
      "Requirement already satisfied: werkzeug>=1.0.1 in c:\\users\\wencio daniel\\anaconda3\\lib\\site-packages (from tensorboard<2.17,>=2.16->tensorflow-intel==2.16.1->tensorflow) (2.2.3)\n",
      "Requirement already satisfied: MarkupSafe>=2.1.1 in c:\\users\\wencio daniel\\anaconda3\\lib\\site-packages (from werkzeug>=1.0.1->tensorboard<2.17,>=2.16->tensorflow-intel==2.16.1->tensorflow) (2.1.1)\n",
      "Downloading keras-3.3.3-py3-none-any.whl (1.1 MB)\n",
      "   ---------------------------------------- 0.0/1.1 MB ? eta -:--:--\n",
      "   -------------------------------------- - 1.1/1.1 MB 23.2 MB/s eta 0:00:01\n",
      "   ---------------------------------------- 1.1/1.1 MB 24.0 MB/s eta 0:00:00\n",
      "Downloading tensorflow-2.16.1-cp311-cp311-win_amd64.whl (2.1 kB)\n",
      "Downloading tensorflow_intel-2.16.1-cp311-cp311-win_amd64.whl (377.0 MB)\n",
      "   ---------------------------------------- 0.0/377.0 MB ? eta -:--:--\n",
      "   ---------------------------------------- 1.8/377.0 MB 37.9 MB/s eta 0:00:10\n",
      "   ---------------------------------------- 4.1/377.0 MB 43.9 MB/s eta 0:00:09\n",
      "    --------------------------------------- 5.4/377.0 MB 38.6 MB/s eta 0:00:10\n",
      "    --------------------------------------- 7.6/377.0 MB 40.6 MB/s eta 0:00:10\n",
      "    --------------------------------------- 9.4/377.0 MB 40.0 MB/s eta 0:00:10\n",
      "   - -------------------------------------- 13.1/377.0 MB 46.7 MB/s eta 0:00:08\n",
      "   - -------------------------------------- 15.9/377.0 MB 54.4 MB/s eta 0:00:07\n",
      "   - -------------------------------------- 18.6/377.0 MB 59.5 MB/s eta 0:00:07\n",
      "   -- ------------------------------------- 20.8/377.0 MB 54.4 MB/s eta 0:00:07\n",
      "   -- ------------------------------------- 22.3/377.0 MB 50.4 MB/s eta 0:00:08\n",
      "   -- ------------------------------------- 22.8/377.0 MB 40.9 MB/s eta 0:00:09\n",
      "   -- ------------------------------------- 24.6/377.0 MB 40.9 MB/s eta 0:00:09\n",
      "   --- ------------------------------------ 28.6/377.0 MB 40.9 MB/s eta 0:00:09\n",
      "   --- ------------------------------------ 31.1/377.0 MB 43.7 MB/s eta 0:00:08\n",
      "   --- ------------------------------------ 33.9/377.0 MB 59.5 MB/s eta 0:00:06\n",
      "   --- ------------------------------------ 37.1/377.0 MB 59.5 MB/s eta 0:00:06\n",
      "   ---- ----------------------------------- 39.3/377.0 MB 59.5 MB/s eta 0:00:06\n",
      "   ---- ----------------------------------- 39.9/377.0 MB 50.4 MB/s eta 0:00:07\n",
      "   ---- ----------------------------------- 44.2/377.0 MB 59.5 MB/s eta 0:00:06\n",
      "   ---- ----------------------------------- 46.1/377.0 MB 50.1 MB/s eta 0:00:07\n",
      "   ----- ---------------------------------- 49.4/377.0 MB 54.7 MB/s eta 0:00:06\n",
      "   ----- ---------------------------------- 51.5/377.0 MB 65.6 MB/s eta 0:00:05\n",
      "   ----- ---------------------------------- 54.5/377.0 MB 59.5 MB/s eta 0:00:06\n",
      "   ------ --------------------------------- 57.1/377.0 MB 59.5 MB/s eta 0:00:06\n",
      "   ------ --------------------------------- 59.9/377.0 MB 59.5 MB/s eta 0:00:06\n",
      "   ------ --------------------------------- 62.3/377.0 MB 59.5 MB/s eta 0:00:06\n",
      "   ------ --------------------------------- 65.0/377.0 MB 54.4 MB/s eta 0:00:06\n",
      "   ------- -------------------------------- 66.5/377.0 MB 50.1 MB/s eta 0:00:07\n",
      "   ------- -------------------------------- 69.8/377.0 MB 54.7 MB/s eta 0:00:06\n",
      "   ------- -------------------------------- 72.7/377.0 MB 54.7 MB/s eta 0:00:06\n",
      "   ------- -------------------------------- 75.1/377.0 MB 54.7 MB/s eta 0:00:06\n",
      "   -------- ------------------------------- 77.9/377.0 MB 54.7 MB/s eta 0:00:06\n",
      "   -------- ------------------------------- 80.5/377.0 MB 59.5 MB/s eta 0:00:05\n",
      "   -------- ------------------------------- 82.1/377.0 MB 50.4 MB/s eta 0:00:06\n",
      "   -------- ------------------------------- 83.9/377.0 MB 46.7 MB/s eta 0:00:07\n",
      "   --------- ------------------------------ 86.1/377.0 MB 46.7 MB/s eta 0:00:07\n",
      "   --------- ------------------------------ 88.5/377.0 MB 43.7 MB/s eta 0:00:07\n",
      "   --------- ------------------------------ 91.8/377.0 MB 50.4 MB/s eta 0:00:06\n",
      "   ---------- ----------------------------- 94.7/377.0 MB 59.5 MB/s eta 0:00:05\n",
      "   ---------- ----------------------------- 97.6/377.0 MB 59.5 MB/s eta 0:00:05\n",
      "   ---------- ---------------------------- 100.5/377.0 MB 65.6 MB/s eta 0:00:05\n",
      "   ---------- ---------------------------- 102.7/377.0 MB 59.5 MB/s eta 0:00:05\n",
      "   ---------- ---------------------------- 104.1/377.0 MB 50.4 MB/s eta 0:00:06\n",
      "   ---------- ---------------------------- 105.4/377.0 MB 43.5 MB/s eta 0:00:07\n",
      "   ---------- ---------------------------- 106.3/377.0 MB 38.6 MB/s eta 0:00:08\n",
      "   ----------- --------------------------- 107.9/377.0 MB 36.4 MB/s eta 0:00:08\n",
      "   ----------- --------------------------- 109.7/377.0 MB 34.4 MB/s eta 0:00:08\n",
      "   ----------- --------------------------- 112.2/377.0 MB 36.4 MB/s eta 0:00:08\n",
      "   ----------- --------------------------- 114.6/377.0 MB 38.5 MB/s eta 0:00:07\n",
      "   ------------ -------------------------- 116.7/377.0 MB 50.4 MB/s eta 0:00:06\n",
      "   ------------ -------------------------- 119.3/377.0 MB 54.7 MB/s eta 0:00:05\n",
      "   ------------ -------------------------- 122.4/377.0 MB 54.4 MB/s eta 0:00:05\n",
      "   ------------ -------------------------- 125.4/377.0 MB 59.5 MB/s eta 0:00:05\n",
      "   ------------- ------------------------- 127.8/377.0 MB 59.5 MB/s eta 0:00:05\n",
      "   ------------- ------------------------- 130.8/377.0 MB 59.5 MB/s eta 0:00:05\n",
      "   ------------- ------------------------- 133.1/377.0 MB 59.8 MB/s eta 0:00:05\n",
      "   -------------- ------------------------ 135.7/377.0 MB 59.5 MB/s eta 0:00:05\n",
      "   -------------- ------------------------ 138.1/377.0 MB 54.7 MB/s eta 0:00:05\n",
      "   -------------- ------------------------ 140.7/377.0 MB 54.7 MB/s eta 0:00:05\n",
      "   -------------- ------------------------ 143.6/377.0 MB 59.5 MB/s eta 0:00:04\n",
      "   --------------- ----------------------- 146.0/377.0 MB 59.5 MB/s eta 0:00:04\n",
      "   --------------- ----------------------- 148.7/377.0 MB 59.5 MB/s eta 0:00:04\n",
      "   --------------- ----------------------- 151.9/377.0 MB 59.5 MB/s eta 0:00:04\n",
      "   --------------- ----------------------- 154.2/377.0 MB 59.8 MB/s eta 0:00:04\n",
      "   ---------------- ---------------------- 155.7/377.0 MB 54.7 MB/s eta 0:00:05\n",
      "   ---------------- ---------------------- 158.2/377.0 MB 54.7 MB/s eta 0:00:04\n",
      "   ---------------- ---------------------- 160.7/377.0 MB 50.4 MB/s eta 0:00:05\n",
      "   ---------------- ---------------------- 163.9/377.0 MB 50.4 MB/s eta 0:00:05\n",
      "   ----------------- --------------------- 166.9/377.0 MB 59.5 MB/s eta 0:00:04\n",
      "   ----------------- --------------------- 169.6/377.0 MB 65.2 MB/s eta 0:00:04\n",
      "   ----------------- --------------------- 172.6/377.0 MB 65.2 MB/s eta 0:00:04\n",
      "   ------------------ -------------------- 174.7/377.0 MB 54.7 MB/s eta 0:00:04\n",
      "   ------------------ -------------------- 177.1/377.0 MB 50.4 MB/s eta 0:00:04\n",
      "   ------------------ -------------------- 181.0/377.0 MB 54.4 MB/s eta 0:00:04\n",
      "   ------------------- ------------------- 184.0/377.0 MB 59.5 MB/s eta 0:00:04\n",
      "   ------------------- ------------------- 186.5/377.0 MB 59.5 MB/s eta 0:00:04\n",
      "   ------------------- ------------------- 188.8/377.0 MB 59.8 MB/s eta 0:00:04\n",
      "   ------------------- ------------------- 191.9/377.0 MB 54.7 MB/s eta 0:00:04\n",
      "   -------------------- ------------------ 194.3/377.0 MB 54.7 MB/s eta 0:00:04\n",
      "   -------------------- ------------------ 197.0/377.0 MB 54.7 MB/s eta 0:00:04\n",
      "   -------------------- ------------------ 199.9/377.0 MB 59.5 MB/s eta 0:00:03\n",
      "   -------------------- ------------------ 201.9/377.0 MB 54.7 MB/s eta 0:00:04\n",
      "   --------------------- ----------------- 204.9/377.0 MB 54.4 MB/s eta 0:00:04\n",
      "   --------------------- ----------------- 207.4/377.0 MB 59.5 MB/s eta 0:00:03\n",
      "   --------------------- ----------------- 210.6/377.0 MB 54.7 MB/s eta 0:00:04\n",
      "   --------------------- ----------------- 212.5/377.0 MB 54.7 MB/s eta 0:00:04\n",
      "   ---------------------- ---------------- 216.7/377.0 MB 59.5 MB/s eta 0:00:03\n",
      "   ---------------------- ---------------- 219.1/377.0 MB 59.5 MB/s eta 0:00:03\n",
      "   ---------------------- ---------------- 220.5/377.0 MB 50.4 MB/s eta 0:00:04\n",
      "   ---------------------- ---------------- 222.2/377.0 MB 46.7 MB/s eta 0:00:04\n",
      "   ----------------------- --------------- 227.0/377.0 MB 54.4 MB/s eta 0:00:03\n",
      "   ----------------------- --------------- 229.8/377.0 MB 59.5 MB/s eta 0:00:03\n",
      "   ------------------------ -------------- 232.8/377.0 MB 73.1 MB/s eta 0:00:02\n",
      "   ------------------------ -------------- 235.8/377.0 MB 65.6 MB/s eta 0:00:03\n",
      "   ------------------------ -------------- 238.8/377.0 MB 65.6 MB/s eta 0:00:03\n",
      "   ------------------------- ------------- 241.8/377.0 MB 65.6 MB/s eta 0:00:03\n",
      "   ------------------------- ------------- 244.0/377.0 MB 65.6 MB/s eta 0:00:03\n",
      "   ------------------------- ------------- 246.6/377.0 MB 65.6 MB/s eta 0:00:02\n",
      "   ------------------------- ------------- 249.8/377.0 MB 65.6 MB/s eta 0:00:02\n",
      "   -------------------------- ------------ 252.1/377.0 MB 59.5 MB/s eta 0:00:03\n",
      "   -------------------------- ------------ 254.6/377.0 MB 59.5 MB/s eta 0:00:03\n",
      "   -------------------------- ------------ 257.6/377.0 MB 65.6 MB/s eta 0:00:02\n",
      "   -------------------------- ------------ 259.6/377.0 MB 65.6 MB/s eta 0:00:02\n",
      "   --------------------------- ----------- 262.2/377.0 MB 65.6 MB/s eta 0:00:02\n",
      "   --------------------------- ----------- 265.0/377.0 MB 65.6 MB/s eta 0:00:02\n",
      "   --------------------------- ----------- 267.5/377.0 MB 65.6 MB/s eta 0:00:02\n",
      "   --------------------------- ----------- 270.1/377.0 MB 65.6 MB/s eta 0:00:02\n",
      "   ---------------------------- ---------- 272.0/377.0 MB 59.8 MB/s eta 0:00:02\n",
      "   ---------------------------- ---------- 274.4/377.0 MB 65.2 MB/s eta 0:00:02\n",
      "   ---------------------------- ---------- 277.0/377.0 MB 65.2 MB/s eta 0:00:02\n",
      "   ---------------------------- ---------- 279.6/377.0 MB 59.8 MB/s eta 0:00:02\n",
      "   ----------------------------- --------- 281.6/377.0 MB 59.5 MB/s eta 0:00:02\n",
      "   ----------------------------- --------- 284.1/377.0 MB 65.6 MB/s eta 0:00:02\n",
      "   ----------------------------- --------- 286.5/377.0 MB 59.5 MB/s eta 0:00:02\n",
      "   ----------------------------- --------- 288.9/377.0 MB 59.5 MB/s eta 0:00:02\n",
      "   ------------------------------ -------- 291.7/377.0 MB 59.5 MB/s eta 0:00:02\n",
      "   ------------------------------ -------- 294.1/377.0 MB 54.7 MB/s eta 0:00:02\n",
      "   ------------------------------ -------- 296.7/377.0 MB 59.5 MB/s eta 0:00:02\n",
      "   ------------------------------ -------- 299.5/377.0 MB 59.5 MB/s eta 0:00:02\n",
      "   ------------------------------- ------- 301.7/377.0 MB 54.7 MB/s eta 0:00:02\n",
      "   ------------------------------- ------- 304.5/377.0 MB 59.5 MB/s eta 0:00:02\n",
      "   ------------------------------- ------- 307.1/377.0 MB 54.7 MB/s eta 0:00:02\n",
      "   -------------------------------- ------ 309.9/377.0 MB 65.6 MB/s eta 0:00:02\n",
      "   -------------------------------- ------ 311.7/377.0 MB 59.5 MB/s eta 0:00:02\n",
      "   -------------------------------- ------ 313.0/377.0 MB 54.4 MB/s eta 0:00:02\n",
      "   -------------------------------- ------ 314.7/377.0 MB 50.4 MB/s eta 0:00:02\n",
      "   -------------------------------- ------ 316.4/377.0 MB 43.7 MB/s eta 0:00:02\n",
      "   -------------------------------- ------ 318.0/377.0 MB 43.5 MB/s eta 0:00:02\n",
      "   --------------------------------- ----- 320.1/377.0 MB 40.9 MB/s eta 0:00:02\n",
      "   --------------------------------- ----- 322.8/377.0 MB 43.7 MB/s eta 0:00:02\n",
      "   --------------------------------- ----- 325.4/377.0 MB 46.7 MB/s eta 0:00:02\n",
      "   --------------------------------- ----- 326.8/377.0 MB 46.7 MB/s eta 0:00:02\n",
      "   ---------------------------------- ---- 331.2/377.0 MB 59.5 MB/s eta 0:00:01\n",
      "   ---------------------------------- ---- 334.4/377.0 MB 65.6 MB/s eta 0:00:01\n",
      "   ---------------------------------- ---- 337.5/377.0 MB 72.6 MB/s eta 0:00:01\n",
      "   ----------------------------------- --- 339.8/377.0 MB 59.5 MB/s eta 0:00:01\n",
      "   ----------------------------------- --- 341.7/377.0 MB 54.7 MB/s eta 0:00:01\n",
      "   ----------------------------------- --- 342.8/377.0 MB 50.4 MB/s eta 0:00:01\n",
      "   ----------------------------------- --- 344.1/377.0 MB 43.7 MB/s eta 0:00:01\n",
      "   ----------------------------------- --- 345.0/377.0 MB 38.5 MB/s eta 0:00:01\n",
      "   ----------------------------------- --- 346.6/377.0 MB 34.4 MB/s eta 0:00:01\n",
      "   ------------------------------------ -- 348.8/377.0 MB 34.4 MB/s eta 0:00:01\n",
      "   ------------------------------------ -- 351.4/377.0 MB 34.4 MB/s eta 0:00:01\n",
      "   ------------------------------------ -- 353.7/377.0 MB 38.5 MB/s eta 0:00:01\n",
      "   ------------------------------------ -- 356.0/377.0 MB 50.4 MB/s eta 0:00:01\n",
      "   ------------------------------------- - 358.0/377.0 MB 50.4 MB/s eta 0:00:01\n",
      "   ------------------------------------- - 361.3/377.0 MB 54.7 MB/s eta 0:00:01\n",
      "   ------------------------------------- - 364.3/377.0 MB 54.7 MB/s eta 0:00:01\n",
      "   ------------------------------------- - 366.4/377.0 MB 54.4 MB/s eta 0:00:01\n",
      "   --------------------------------------  367.7/377.0 MB 46.7 MB/s eta 0:00:01\n",
      "   --------------------------------------  369.2/377.0 MB 46.7 MB/s eta 0:00:01\n",
      "   --------------------------------------  370.4/377.0 MB 40.9 MB/s eta 0:00:01\n",
      "   --------------------------------------  371.8/377.0 MB 36.4 MB/s eta 0:00:01\n",
      "   --------------------------------------  373.6/377.0 MB 34.4 MB/s eta 0:00:01\n",
      "   --------------------------------------  375.0/377.0 MB 32.8 MB/s eta 0:00:01\n",
      "   --------------------------------------  376.5/377.0 MB 31.2 MB/s eta 0:00:01\n",
      "   --------------------------------------  377.0/377.0 MB 31.2 MB/s eta 0:00:01\n",
      "   --------------------------------------  377.0/377.0 MB 31.2 MB/s eta 0:00:01\n",
      "   --------------------------------------  377.0/377.0 MB 31.2 MB/s eta 0:00:01\n",
      "   --------------------------------------  377.0/377.0 MB 31.2 MB/s eta 0:00:01\n",
      "   --------------------------------------  377.0/377.0 MB 31.2 MB/s eta 0:00:01\n",
      "   --------------------------------------  377.0/377.0 MB 31.2 MB/s eta 0:00:01\n",
      "   --------------------------------------  377.0/377.0 MB 31.2 MB/s eta 0:00:01\n",
      "   --------------------------------------  377.0/377.0 MB 31.2 MB/s eta 0:00:01\n",
      "   --------------------------------------  377.0/377.0 MB 31.2 MB/s eta 0:00:01\n",
      "   --------------------------------------  377.0/377.0 MB 31.2 MB/s eta 0:00:01\n",
      "   --------------------------------------  377.0/377.0 MB 31.2 MB/s eta 0:00:01\n",
      "   --------------------------------------  377.0/377.0 MB 31.2 MB/s eta 0:00:01\n",
      "   --------------------------------------  377.0/377.0 MB 31.2 MB/s eta 0:00:01\n",
      "   --------------------------------------  377.0/377.0 MB 31.2 MB/s eta 0:00:01\n",
      "   --------------------------------------  377.0/377.0 MB 31.2 MB/s eta 0:00:01\n",
      "   --------------------------------------  377.0/377.0 MB 31.2 MB/s eta 0:00:01\n",
      "   ---------------------------------------- 377.0/377.0 MB 7.2 MB/s eta 0:00:00\n",
      "Downloading absl_py-2.1.0-py3-none-any.whl (133 kB)\n",
      "   ---------------------------------------- 0.0/133.7 kB ? eta -:--:--\n",
      "   ---------------------------------------- 133.7/133.7 kB ? eta 0:00:00\n",
      "Downloading h5py-3.11.0-cp311-cp311-win_amd64.whl (3.0 MB)\n",
      "   ---------------------------------------- 0.0/3.0 MB ? eta -:--:--\n",
      "   ------------------------------ --------- 2.3/3.0 MB 48.8 MB/s eta 0:00:01\n",
      "   ---------------------------------------- 3.0/3.0 MB 31.6 MB/s eta 0:00:00\n",
      "Downloading ml_dtypes-0.3.2-cp311-cp311-win_amd64.whl (127 kB)\n",
      "   ---------------------------------------- 0.0/127.7 kB ? eta -:--:--\n",
      "   ---------------------------------------- 127.7/127.7 kB ? eta 0:00:00\n",
      "Downloading namex-0.0.8-py3-none-any.whl (5.8 kB)\n",
      "Downloading optree-0.11.0-cp311-cp311-win_amd64.whl (245 kB)\n",
      "   ---------------------------------------- 0.0/245.0 kB ? eta -:--:--\n",
      "   --------------------------------------- 245.0/245.0 kB 14.7 MB/s eta 0:00:00\n",
      "Downloading rich-13.7.1-py3-none-any.whl (240 kB)\n",
      "   ---------------------------------------- 0.0/240.7 kB ? eta -:--:--\n",
      "   ---------------------------------------- 240.7/240.7 kB ? eta 0:00:00\n",
      "Downloading astunparse-1.6.3-py2.py3-none-any.whl (12 kB)\n",
      "Downloading flatbuffers-24.3.25-py2.py3-none-any.whl (26 kB)\n",
      "Downloading gast-0.5.4-py3-none-any.whl (19 kB)\n",
      "Downloading google_pasta-0.2.0-py3-none-any.whl (57 kB)\n",
      "   ---------------------------------------- 0.0/57.5 kB ? eta -:--:--\n",
      "   ---------------------------------------- 57.5/57.5 kB ? eta 0:00:00\n",
      "Downloading grpcio-1.64.1-cp311-cp311-win_amd64.whl (4.1 MB)\n",
      "   ---------------------------------------- 0.0/4.1 MB ? eta -:--:--\n",
      "   --------------- ------------------------ 1.6/4.1 MB 52.2 MB/s eta 0:00:01\n",
      "   --------------------- ------------------ 2.2/4.1 MB 35.5 MB/s eta 0:00:01\n",
      "   --------------------------- ------------ 2.8/4.1 MB 22.7 MB/s eta 0:00:01\n",
      "   ---------------------------------------- 4.1/4.1 MB 26.1 MB/s eta 0:00:00\n",
      "Downloading libclang-18.1.1-py2.py3-none-win_amd64.whl (26.4 MB)\n",
      "   ---------------------------------------- 0.0/26.4 MB ? eta -:--:--\n",
      "   - -------------------------------------- 1.3/26.4 MB 40.3 MB/s eta 0:00:01\n",
      "   ---- ----------------------------------- 2.9/26.4 MB 36.0 MB/s eta 0:00:01\n",
      "   ------ --------------------------------- 4.4/26.4 MB 35.4 MB/s eta 0:00:01\n",
      "   -------- ------------------------------- 5.9/26.4 MB 34.4 MB/s eta 0:00:01\n",
      "   ----------- ---------------------------- 7.4/26.4 MB 33.9 MB/s eta 0:00:01\n",
      "   -------------- ------------------------- 9.7/26.4 MB 36.5 MB/s eta 0:00:01\n",
      "   ------------------ --------------------- 12.1/26.4 MB 38.5 MB/s eta 0:00:01\n",
      "   -------------------- ------------------- 13.8/26.4 MB 38.5 MB/s eta 0:00:01\n",
      "   ----------------------- ---------------- 15.8/26.4 MB 40.9 MB/s eta 0:00:01\n",
      "   --------------------------- ------------ 18.1/26.4 MB 43.5 MB/s eta 0:00:01\n",
      "   ------------------------------ --------- 20.2/26.4 MB 43.7 MB/s eta 0:00:01\n",
      "   --------------------------------- ------ 22.1/26.4 MB 43.7 MB/s eta 0:00:01\n",
      "   ----------------------------------- ---- 23.2/26.4 MB 40.9 MB/s eta 0:00:01\n",
      "   ---------------------------------------  25.8/26.4 MB 40.9 MB/s eta 0:00:01\n",
      "   ---------------------------------------  26.4/26.4 MB 43.7 MB/s eta 0:00:01\n",
      "   ---------------------------------------- 26.4/26.4 MB 34.4 MB/s eta 0:00:00\n",
      "Downloading opt_einsum-3.3.0-py3-none-any.whl (65 kB)\n",
      "   ---------------------------------------- 0.0/65.5 kB ? eta -:--:--\n",
      "   ---------------------------------------- 65.5/65.5 kB ? eta 0:00:00\n",
      "Using cached protobuf-4.25.3-cp310-abi3-win_amd64.whl (413 kB)\n",
      "Downloading tensorboard-2.16.2-py3-none-any.whl (5.5 MB)\n",
      "   ---------------------------------------- 0.0/5.5 MB ? eta -:--:--\n",
      "   ---------------- ----------------------- 2.2/5.5 MB 47.5 MB/s eta 0:00:01\n",
      "   ----------------------------------- ---- 4.8/5.5 MB 51.3 MB/s eta 0:00:01\n",
      "   ---------------------------------------- 5.5/5.5 MB 49.8 MB/s eta 0:00:00\n",
      "Downloading tensorflow_io_gcs_filesystem-0.31.0-cp311-cp311-win_amd64.whl (1.5 MB)\n",
      "   ---------------------------------------- 0.0/1.5 MB ? eta -:--:--\n",
      "   ---------------------------------------- 1.5/1.5 MB 47.6 MB/s eta 0:00:00\n",
      "Downloading termcolor-2.4.0-py3-none-any.whl (7.7 kB)\n",
      "Downloading tensorboard_data_server-0.7.2-py3-none-any.whl (2.4 kB)\n",
      "Installing collected packages: namex, libclang, flatbuffers, termcolor, tensorflow-io-gcs-filesystem, tensorboard-data-server, protobuf, optree, opt-einsum, ml-dtypes, h5py, grpcio, google-pasta, gast, astunparse, absl-py, tensorboard, rich, keras, tensorflow-intel, tensorflow\n",
      "  Attempting uninstall: h5py\n",
      "    Found existing installation: h5py 3.9.0\n",
      "    Uninstalling h5py-3.9.0:\n",
      "      Successfully uninstalled h5py-3.9.0\n",
      "Successfully installed absl-py-2.1.0 astunparse-1.6.3 flatbuffers-24.3.25 gast-0.5.4 google-pasta-0.2.0 grpcio-1.64.1 h5py-3.11.0 keras-3.3.3 libclang-18.1.1 ml-dtypes-0.3.2 namex-0.0.8 opt-einsum-3.3.0 optree-0.11.0 protobuf-4.25.3 rich-13.7.1 tensorboard-2.16.2 tensorboard-data-server-0.7.2 tensorflow-2.16.1 tensorflow-intel-2.16.1 tensorflow-io-gcs-filesystem-0.31.0 termcolor-2.4.0\n",
      "Note: you may need to restart the kernel to use updated packages.\n"
     ]
    }
   ],
   "source": [
    "pip install keras tensorflow\n"
   ]
  },
  {
   "cell_type": "code",
   "execution_count": 9,
   "metadata": {},
   "outputs": [
    {
     "name": "stdout",
     "output_type": "stream",
     "text": [
      "Downloading data from https://storage.googleapis.com/tensorflow/tf-keras-datasets/mnist.npz\n",
      "\u001b[1m11490434/11490434\u001b[0m \u001b[32m━━━━━━━━━━━━━━━━━━━━\u001b[0m\u001b[37m\u001b[0m \u001b[1m1s\u001b[0m 0us/step\n",
      "(60000,) (10000,)\n"
     ]
    }
   ],
   "source": [
    "(X_train, y_train), (X_test, y_test) = mnist.load_data()\n",
    "print(y_train.shape, y_test.shape)"
   ]
  },
  {
   "cell_type": "code",
   "execution_count": 10,
   "metadata": {},
   "outputs": [
    {
     "data": {
      "text/plain": [
       "<matplotlib.image.AxesImage at 0x237f5b8c810>"
      ]
     },
     "execution_count": 10,
     "metadata": {},
     "output_type": "execute_result"
    },
    {
     "data": {
      "image/png": "[encoded data removed]",
      "text/plain": [
       "<Figure size 640x480 with 1 Axes>"
      ]
     },
     "metadata": {},
     "output_type": "display_data"
    }
   ],
   "source": [
    "import matplotlib.pyplot as plt\n",
    "#plot the first image in the dataset\n",
    "plt.imshow(X_train[0])"
   ]
  },
  {
   "cell_type": "code",
   "execution_count": 11,
   "metadata": {},
   "outputs": [
    {
     "data": {
      "text/plain": [
       "(28, 28)"
      ]
     },
     "execution_count": 11,
     "metadata": {},
     "output_type": "execute_result"
    }
   ],
   "source": [
    "#check image shape\n",
    "X_train[0].shape"
   ]
  },
  {
   "cell_type": "code",
   "execution_count": 12,
   "metadata": {},
   "outputs": [
    {
     "name": "stdout",
     "output_type": "stream",
     "text": [
      "(60000, 28, 28, 1)\n"
     ]
    }
   ],
   "source": [
    "#reshape data to fit model\n",
    "X_train = X_train.reshape(60000,28,28,1)\n",
    "print(X_train.shape)"
   ]
  },
  {
   "cell_type": "code",
   "execution_count": 13,
   "metadata": {},
   "outputs": [],
   "source": [
    "#X_test = X_test.reshape(10000,...,...,...)\n",
    "X_test = X_test.reshape(10000,28,28,1)"
   ]
  },
  {
   "cell_type": "code",
   "execution_count": 18,
   "metadata": {},
   "outputs": [
    {
     "name": "stdout",
     "output_type": "stream",
     "text": [
      "y_train[0]: 5\n",
      "y_train_onehot[0]: [0. 0. 0. 0. 0. 1. 0. 0. 0. 0.]\n"
     ]
    }
   ],
   "source": [
    "from keras.utils import to_categorical\n",
    "#one-hot encode target column\n",
    "y_train_onehot = to_categorical(y_train)\n",
    "y_test_onehot = to_categorical(y_test)\n",
    "print(\"y_train[0]:\", y_train[0])\n",
    "print(\"y_train_onehot[0]:\", y_train_onehot[0])"
   ]
  },
  {
   "cell_type": "code",
   "execution_count": 15,
   "metadata": {},
   "outputs": [],
   "source": [
    "from keras.models import Sequential\n",
    "from tensorflow.keras.layers import Conv2D, MaxPooling2D, Dense, Flatten\n",
    "num_filters = 8\n",
    "filter_size = 3\n",
    "pool_size = 2"
   ]
  },
  {
   "cell_type": "code",
   "execution_count": 16,
   "metadata": {},
   "outputs": [
    {
     "name": "stderr",
     "output_type": "stream",
     "text": [
      "c:\\Users\\WENCIO DANIEL\\anaconda3\\Lib\\site-packages\\keras\\src\\layers\\convolutional\\base_conv.py:107: UserWarning: Do not pass an `input_shape`/`input_dim` argument to a layer. When using Sequential models, prefer using an `Input(shape)` object as the first layer in the model instead.\n",
      "  super().__init__(activity_regularizer=activity_regularizer, **kwargs)\n"
     ]
    }
   ],
   "source": [
    "#defining the model\n",
    "model = Sequential()\n",
    "#add model layers\n",
    "model = Sequential([\n",
    " Conv2D(num_filters, filter_size, input_shape=(28, 28, 1)),\n",
    " MaxPooling2D(pool_size=pool_size),\n",
    " Flatten(),\n",
    " Dense(10, activation='softmax'),\n",
    "])"
   ]
  },
  {
   "cell_type": "code",
   "execution_count": 17,
   "metadata": {},
   "outputs": [],
   "source": [
    "#compile model using accuracy to measure model performance\n",
    "model.compile(optimizer='adam', loss='categorical_crossentropy', metrics=['accuracy'])\n"
   ]
  },
  {
   "cell_type": "code",
   "execution_count": 19,
   "metadata": {},
   "outputs": [
    {
     "name": "stdout",
     "output_type": "stream",
     "text": [
      "Epoch 1/3\n",
      "\u001b[1m1875/1875\u001b[0m \u001b[32m━━━━━━━━━━━━━━━━━━━━\u001b[0m\u001b[37m\u001b[0m \u001b[1m4s\u001b[0m 2ms/step - accuracy: 0.8319 - loss: 4.0695 - val_accuracy: 0.9294 - val_loss: 0.5779\n",
      "Epoch 2/3\n",
      "\u001b[1m1875/1875\u001b[0m \u001b[32m━━━━━━━━━━━━━━━━━━━━\u001b[0m\u001b[37m\u001b[0m \u001b[1m3s\u001b[0m 1ms/step - accuracy: 0.9439 - loss: 0.4006 - val_accuracy: 0.9404 - val_loss: 0.4020\n",
      "Epoch 3/3\n",
      "\u001b[1m1875/1875\u001b[0m \u001b[32m━━━━━━━━━━━━━━━━━━━━\u001b[0m\u001b[37m\u001b[0m \u001b[1m3s\u001b[0m 2ms/step - accuracy: 0.9552 - loss: 0.2397 - val_accuracy: 0.9377 - val_loss: 0.3337\n"
     ]
    },
    {
     "data": {
      "text/plain": [
       "<keras.src.callbacks.history.History at 0x237f5cb0450>"
      ]
     },
     "execution_count": 19,
     "metadata": {},
     "output_type": "execute_result"
    }
   ],
   "source": [
    "#train the model\n",
    "model.fit(X_train, y_train_onehot, validation_data=(X_test, y_test_onehot), epochs=3)"
   ]
  },
  {
   "cell_type": "code",
   "execution_count": 20,
   "metadata": {},
   "outputs": [
    {
     "name": "stdout",
     "output_type": "stream",
     "text": [
      "\u001b[1m313/313\u001b[0m \u001b[32m━━━━━━━━━━━━━━━━━━━━\u001b[0m\u001b[37m\u001b[0m \u001b[1m0s\u001b[0m 1ms/step\n"
     ]
    },
    {
     "data": {
      "text/plain": [
       "array([[2.94734358e-18, 3.65085598e-19, 5.01880818e-13, 1.64243176e-07,\n",
       "        7.53115248e-20, 1.74788465e-16, 9.92454657e-27, 9.99999881e-01,\n",
       "        6.83286761e-13, 1.55716863e-11],\n",
       "       [7.35001867e-20, 2.76906409e-22, 1.00000000e+00, 5.02928656e-19,\n",
       "        2.80025732e-33, 2.06256393e-22, 1.03679425e-14, 0.00000000e+00,\n",
       "        3.36465832e-21, 2.30179003e-30],\n",
       "       [3.58371700e-11, 9.99993086e-01, 1.68176300e-08, 2.67485278e-09,\n",
       "        1.13584102e-08, 1.04713479e-07, 5.87589755e-09, 1.05505578e-07,\n",
       "        6.57169585e-06, 6.68695321e-08],\n",
       "       [1.00000000e+00, 6.31392256e-17, 6.88632795e-09, 4.35053957e-13,\n",
       "        6.81921812e-26, 2.04206132e-13, 4.84479731e-12, 5.04404997e-16,\n",
       "        5.96172547e-12, 7.19926614e-13]], dtype=float32)"
      ]
     },
     "execution_count": 20,
     "metadata": {},
     "output_type": "execute_result"
    }
   ],
   "source": [
    "#predict all images in the test set, and look at first 4\n",
    "pred_probs = model.predict(X_test)\n",
    "pred_probs[:4]"
   ]
  },
  {
   "cell_type": "code",
   "execution_count": 21,
   "metadata": {},
   "outputs": [
    {
     "data": {
      "text/plain": [
       "array([7, 2, 1, 0], dtype=int64)"
      ]
     },
     "execution_count": 21,
     "metadata": {},
     "output_type": "execute_result"
    }
   ],
   "source": [
    "pred_classes = np.argmax(pred_probs,axis=1)\n",
    "pred_classes[:4]"
   ]
  },
  {
   "cell_type": "code",
   "execution_count": 22,
   "metadata": {},
   "outputs": [
    {
     "data": {
      "text/plain": [
       "array([7, 2, 1, 0], dtype=uint8)"
      ]
     },
     "execution_count": 22,
     "metadata": {},
     "output_type": "execute_result"
    }
   ],
   "source": [
    "#actual results for first 4 images in test set\n",
    "y_test[:4]"
   ]
  },
  {
   "cell_type": "code",
   "execution_count": null,
   "metadata": {},
   "outputs": [],
   "source": []
  }
 ],
 "metadata": {
  "kernelspec": {
   "display_name": "base",
   "language": "python",
   "name": "python3"
  },
  "language_info": {
   "codemirror_mode": {
    "name": "ipython",
    "version": 3
   },
   "file_extension": ".py",
   "mimetype": "text/x-python",
   "name": "python",
   "nbconvert_exporter": "python",
   "pygments_lexer": "ipython3",
   "version": "3.11.5"
  }
 },
 "nbformat": 4,
 "nbformat_minor": 2
}
